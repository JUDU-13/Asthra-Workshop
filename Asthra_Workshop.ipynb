{
  "nbformat": 4,
  "nbformat_minor": 0,
  "metadata": {
    "colab": {
      "provenance": []
    },
    "kernelspec": {
      "name": "python3",
      "display_name": "Python 3"
    },
    "language_info": {
      "name": "python"
    }
  },
  "cells": [
    {
      "cell_type": "code",
      "source": [
        "# ---------------------------------------------\n",
        "# 🏠 House Price Prediction - Interactive\n",
        "# ---------------------------------------------\n",
        "# In this session, we will:\n",
        "# 1. Generate a realistic house dataset\n",
        "# 2. Explore and visualize the data\n",
        "# 3. Build a regression model to predict price\n",
        "# 4. Evaluate the model & get insights\n",
        "# 5. Predict price based on user input\n",
        "# ---------------------------------------------\n",
        "\n",
        "# Step 1: Import Required Libraries\n",
        "import pandas as pd\n",
        "import numpy as np\n",
        "import matplotlib.pyplot as plt\n",
        "import seaborn as sns\n",
        "\n",
        "from sklearn.model_selection import train_test_split\n",
        "from sklearn.linear_model import LinearRegression\n",
        "from sklearn.metrics import mean_squared_error, r2_score\n",
        "print(\"✅ Step 1: Libraries imported successfully!\")\n"
      ],
      "metadata": {
        "id": "o6YWzMCnaIzN"
      },
      "execution_count": null,
      "outputs": []
    },
    {
      "cell_type": "code",
      "source": [
        "\n",
        "# Step 2: Create a Realistic Dataset\n",
        "print(\"\\n--- Step 2: Creating Dataset ---\")\n",
        "np.random.seed(42)  # for reproducibility\n",
        "n = 200  # number of houses\n",
        "\n",
        "# Generate features\n",
        "size = np.random.randint(600, 5000, n)\n",
        "bedrooms = np.random.randint(1, 7, n)\n",
        "age = np.random.randint(0, 40, n)\n",
        "\n",
        "# Price formula\n",
        "price = (size * 120) + (bedrooms * 10000) - (age * 800) + np.random.randint(-20000, 20000, n)\n",
        "\n",
        "# Create DataFrame\n",
        "df = pd.DataFrame({\n",
        "    \"Size_sqft\": size,\n",
        "    \"Bedrooms\": bedrooms,\n",
        "    \"Age_years\": age,\n",
        "    \"Price_USD\": price\n",
        "})\n",
        "print(\"✅ Dataset Created Successfully!\")\n",
        "# --- Show Output for Step 2 ---\n",
        "print(\"First 5 rows of the dataset:\")\n",
        "print(df.head())\n",
        "\n"
      ],
      "metadata": {
        "id": "NxfMkAJGa_IX"
      },
      "execution_count": null,
      "outputs": []
    },
    {
      "cell_type": "code",
      "source": [
        "# Step 3: Basic Dataset Info\n",
        "print(\"\\n--- Step 3: Basic Dataset Info ---\")\n",
        "# --- Show Output for Step 3 ---\n",
        "print(\"Dataset Information (datatypes, non-null counts):\")\n",
        "df.info()\n",
        "print(\"\\nSummary Statistics (count, mean, std, etc.):\")\n",
        "print(df.describe())\n"
      ],
      "metadata": {
        "id": "c2KsATTPbICM"
      },
      "execution_count": null,
      "outputs": []
    },
    {
      "cell_type": "code",
      "source": [
        "\n",
        "# Step 4: Exploratory Data Analysis (EDA)\n",
        "print(\"\\n--- Step 4: Exploratory Data Analysis (EDA) ---\")\n",
        "print(\"Generating plots... please check the pop-up windows.\")\n",
        "\n",
        "# --- Distribution of Price\n",
        "plt.figure(figsize=(6,4))\n",
        "sns.histplot(df[\"Price_USD\"], bins=30, kde=True, color=\"blue\")\n",
        "plt.title(\"Distribution of House Prices\")\n",
        "plt.xlabel(\"Price (USD)\")\n",
        "plt.show()\n",
        "\n",
        "# --- Pairplot to check relationships\n",
        "sns.pairplot(df)\n",
        "plt.suptitle(\"Pairwise Feature Relationships\", y=1.02)\n",
        "plt.show()\n",
        "\n",
        "# --- Correlation Heatmap\n",
        "plt.figure(figsize=(6,4))\n",
        "sns.heatmap(df.corr(), annot=True, cmap=\"coolwarm\", fmt=\".2f\")\n",
        "plt.title(\"Correlation Heatmap\")\n",
        "plt.show()\n",
        "\n",
        "print(\"✅ EDA plots have been displayed.\")\n"
      ],
      "metadata": {
        "id": "QwIEK9y_bM2h"
      },
      "execution_count": null,
      "outputs": []
    },
    {
      "cell_type": "code",
      "source": [
        "\n",
        "# Step 5: Prepare Data for Modeling\n",
        "print(\"\\n--- Step 5: Preparing Data for Modeling ---\")\n",
        "X = df[[\"Size_sqft\", \"Bedrooms\", \"Age_years\"]]  # Features\n",
        "y = df[\"Price_USD\"]                            # Target variable\n",
        "\n",
        "# Split data into training (80%) and testing (20%)\n",
        "X_train, X_test, y_train, y_test = train_test_split(\n",
        "    X, y, test_size=0.2, random_state=42\n",
        ")\n",
        "print(\"Data split into training and testing sets.\")\n",
        "# --- Show Output for Step 5 ---\n",
        "print(f\"Training set shape: {X_train.shape}\")\n",
        "print(f\"Testing set shape: {X_test.shape}\")\n"
      ],
      "metadata": {
        "id": "cdCxO8twbTkz"
      },
      "execution_count": null,
      "outputs": []
    },
    {
      "cell_type": "code",
      "source": [
        "\n",
        "# Step 6: Train Linear Regression Model\n",
        "print(\"\\n--- Step 6: Training the Linear Regression Model ---\")\n",
        "model = LinearRegression()\n",
        "model.fit(X_train, y_train)\n",
        "print(\"✅ Model Training Complete!\")\n"
      ],
      "metadata": {
        "id": "qLucCkGNbgyM"
      },
      "execution_count": null,
      "outputs": []
    },
    {
      "cell_type": "code",
      "source": [
        "\n",
        "# Step 7: Make Predictions on Test Data\n",
        "print(\"\\n--- Step 7: Making Predictions on the Test Set ---\")\n",
        "y_pred = model.predict(X_test)\n",
        "print(\"✅ Predictions made successfully.\")\n",
        "# --- Show Output for Step 7 ---\n",
        "# Create a DataFrame to show a few actual vs. predicted values\n",
        "predictions_df = pd.DataFrame({'Actual Price': y_test, 'Predicted Price': y_pred})\n",
        "predictions_df['Difference'] = predictions_df['Actual Price'] - predictions_df['Predicted Price']\n",
        "print(\"Sample of predictions vs actual prices:\")\n",
        "print(predictions_df.head())\n",
        "\n"
      ],
      "metadata": {
        "id": "BZ3FJsqabkrW"
      },
      "execution_count": null,
      "outputs": []
    },
    {
      "cell_type": "code",
      "source": [
        "\n",
        "# Step 8: Evaluate Model\n",
        "print(\"\\n--- Step 8: Evaluating Model Performance ---\")\n",
        "mse = mean_squared_error(y_test, y_pred)\n",
        "r2 = r2_score(y_test, y_pred)\n",
        "# --- Show Output for Step 8 ---\n",
        "print(\"Model Evaluation Metrics:\")\n",
        "print(f\"Mean Squared Error (MSE): {mse:,.2f}\")\n",
        "print(f\"R-squared (R²) Score: {r2:.4f}\")\n"
      ],
      "metadata": {
        "id": "VgZZ1ISkboGP"
      },
      "execution_count": null,
      "outputs": []
    },
    {
      "cell_type": "code",
      "source": [
        "\n",
        "# Step 9: Visualize Predictions vs Actual\n",
        "print(\"\\n--- Step 9: Visualizing Predictions vs Actual Prices ---\")\n",
        "print(\"Generating plot... please check the pop-up window.\")\n",
        "plt.figure(figsize=(6,4))\n",
        "plt.scatter(y_test, y_pred, color=\"purple\", alpha=0.6)\n",
        "plt.xlabel(\"Actual Prices (USD)\")\n",
        "plt.ylabel(\"Predicted Prices (USD)\")\n",
        "plt.title(\"Actual vs Predicted Prices\")\n",
        "plt.plot([y.min(), y.max()], [y.min(), y.max()], 'k--', lw=2)  # reference line\n",
        "plt.show()\n",
        "print(\"✅ Prediction plot displayed.\")\n"
      ],
      "metadata": {
        "id": "_yWoUYgxbqnR"
      },
      "execution_count": null,
      "outputs": []
    },
    {
      "cell_type": "code",
      "source": [
        "\n",
        "# Step 10: Coefficients (Feature Importance)\n",
        "print(\"\\n--- Step 10: Analyzing Model Coefficients ---\")\n",
        "coeff_df = pd.DataFrame(model.coef_, X.columns, columns=[\"Coefficient\"])\n",
        "# --- Show Output for Step 10 ---\n",
        "print(\"Feature Importance (Model Coefficients):\")\n",
        "print(coeff_df)\n",
        "print(\"\\nThis means for every 1 unit increase:\")\n",
        "print(f\"- Size: Price increases by ~${coeff_df.loc['Size_sqft'][0]:.2f}\")\n",
        "print(f\"- Bedrooms: Price increases by ~${coeff_df.loc['Bedrooms'][0]:.2f}\")\n",
        "print(f\"- Age: Price decreases by ~${-coeff_df.loc['Age_years'][0]:.2f}\")\n"
      ],
      "metadata": {
        "id": "4VhVbuhQbujF"
      },
      "execution_count": null,
      "outputs": []
    },
    {
      "cell_type": "code",
      "source": [
        "\n",
        "# Step 11: Predict New House Price from User Input\n",
        "print(\"\\n\" + \"=\"*45)\n",
        "print(\"💡 PREDICT THE PRICE OF YOUR HOUSE 💡\")\n",
        "print(\"=\"*45)\n",
        "\n",
        "while True:\n",
        "    try:\n",
        "        user_size = int(input(\"Enter the size of the house in sq.ft: \"))\n",
        "        user_bedrooms = int(input(\"Enter the number of bedrooms: \"))\n",
        "        user_age = int(input(\"Enter the age of the house in years: \"))\n",
        "\n",
        "        new_house_features = [[user_size, user_bedrooms, user_age]]\n",
        "        predicted_price = model.predict(new_house_features)\n",
        "\n",
        "        print(\"\\n----------------------------------------------------\")\n",
        "        print(f\"✨ Predicted price for the house is: ${predicted_price[0]:,.2f}\")\n",
        "        print(\"----------------------------------------------------\\n\")\n",
        "\n",
        "        another = input(\"Do you want to predict another house price? (yes/no): \").lower()\n",
        "        if another != 'yes':\n",
        "            print(\"Thank you for using the House Price Predictor! 👋\")\n",
        "            break\n",
        "\n",
        "    except ValueError:\n",
        "        print(\"\\n❌ Invalid input. Please enter valid numbers for all fields. Let's try again.\\n\")"
      ],
      "metadata": {
        "id": "HOuSvFkvbywp"
      },
      "execution_count": null,
      "outputs": []
    },
    {
      "cell_type": "code",
      "source": [],
      "metadata": {
        "id": "dt6SNOJCbz5l"
      },
      "execution_count": null,
      "outputs": []
    }
  ]
}